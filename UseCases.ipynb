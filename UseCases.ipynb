{
 "cells": [
  {
   "cell_type": "markdown",
   "source": [
    "# Mount the drive & download required package\n",
    "This notebook was made for Colab usage. If running on local, the next cell can be ommitted."
   ],
   "metadata": {
    "id": "oFIozaUExVEL"
   }
  },
  {
   "cell_type": "code",
   "execution_count": 1,
   "source": [
    "!pip install dgl-cu101\r\n",
    "!pip install scikit-optimize\r\n",
    "!pip install boto3\r\n",
    "from google.colab import drive\r\n",
    "drive.mount('/content/drive')\r\n",
    "import sys\r\n",
    "sys.path.append('/content/drive/My Drive/Code/')\r\n",
    "%cd /content/drive/My\\ Drive/Code/\r\n",
    "\r\n",
    "from torch.multiprocessing import Pool, Process, set_start_method\r\n",
    "try:\r\n",
    "    set_start_method('spawn')\r\n",
    "except RuntimeError:\r\n",
    "    pass"
   ],
   "outputs": [
    {
     "output_type": "stream",
     "name": "stdout",
     "text": [
      "^C\n"
     ]
    }
   ],
   "metadata": {}
  },
  {
   "cell_type": "markdown",
   "source": [
    "# Use case 1 : Hyperparametrization"
   ],
   "metadata": {
    "id": "0vYgFk5KxHBJ"
   }
  },
  {
   "cell_type": "code",
   "execution_count": null,
   "source": [
    "!python main.py --from_beginning -v --visualization --check_embedding --remove 0.85 --num_epochs 100 --patience 5 --edge_batch_size 1024 --item_id_type 'ITEM IDENTIFIER' --duplicates 'keep_all'"
   ],
   "outputs": [],
   "metadata": {}
  },
  {
   "cell_type": "markdown",
   "source": [
    "# Use case 2 : Full training"
   ],
   "metadata": {
    "id": "BHekS5cQxjGZ"
   }
  },
  {
   "cell_type": "code",
   "execution_count": null,
   "source": [
    "!python main_train.py --fixed_params_path test/fixed_params_example.pkl --params_path test/params_example.pkl --visualization --check_embedding --remove .85 --edge_batch_size 512"
   ],
   "outputs": [],
   "metadata": {}
  },
  {
   "cell_type": "markdown",
   "source": [
    "# Use case 3 : Inference"
   ],
   "metadata": {
    "id": "vZeLHdtTxjfT"
   }
  },
  {
   "cell_type": "markdown",
   "source": [
    "## 3.1 : Specific users, creating the graph"
   ],
   "metadata": {
    "id": "eGkv8ffZ4y26"
   }
  },
  {
   "cell_type": "code",
   "execution_count": null,
   "source": [
    "!python main_inference.py --params_path test/final_params_example.pkl --user_ids 123456 \\\n",
    "--user_ids 654321 --user_ids 999 \\\n",
    "--trained_model_path test/final_model_trained_example.pth --k 10 --remove .99"
   ],
   "outputs": [],
   "metadata": {}
  },
  {
   "cell_type": "markdown",
   "source": [
    "## 3.1 : All users, importing the graph"
   ],
   "metadata": {
    "id": "qlZ-rbWW46Ue"
   }
  },
  {
   "cell_type": "code",
   "execution_count": null,
   "source": [
    "!python main_inference.py --params_path test/final_params_example.pkl \\\n",
    "--user_ids all --use_saved_graph --graph_path test/final_graph_example.bin --ctm_id_path test/final_ctm_id_example.pkl \\\n",
    "--pdt_id_path test/final_pdt_id_example.pkl --trained_model_path test/final_model_trained_example.pth \\\n",
    "--k 10 --remove 0"
   ],
   "outputs": [],
   "metadata": {
    "pycharm": {
     "name": "#%%\n"
    }
   }
  }
 ],
 "metadata": {
  "accelerator": "GPU",
  "colab": {
   "collapsed_sections": [],
   "machine_shape": "hm",
   "name": "UseCases.ipynb",
   "provenance": []
  },
  "kernelspec": {
   "name": "python3",
   "display_name": "Python 3.9.6 64-bit"
  },
  "language_info": {
   "codemirror_mode": {
    "name": "ipython",
    "version": 3
   },
   "file_extension": ".py",
   "mimetype": "text/x-python",
   "name": "python",
   "nbconvert_exporter": "python",
   "pygments_lexer": "ipython3",
   "version": "3.9.6"
  },
  "interpreter": {
   "hash": "8da01e5a71448ea74f54d88afa8911010d1d12e23bc7e103d40d5def4a09152c"
  }
 },
 "nbformat": 4,
 "nbformat_minor": 4
}